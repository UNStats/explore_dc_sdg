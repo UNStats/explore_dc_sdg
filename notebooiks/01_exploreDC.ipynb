{
 "cells": [
  {
   "cell_type": "code",
   "execution_count": 1,
   "id": "e1c4266d-5dd3-4e2f-879d-f4b592da6ce1",
   "metadata": {},
   "outputs": [],
   "source": [
    "# Import Data Commons\n",
    "\n",
    "import pandas as pd\n",
    "import numpy as np\n",
    "import datacommons_pandas as dc\n",
    "\n",
    "# Import other required libraries\n",
    "import matplotlib.pyplot as plt\n",
    "import matplotlib.patches as mpatches\n",
    "import pandas as pd\n",
    "\n",
    "import json\n",
    "import time\n",
    "\n",
    "import os\n",
    "from dotenv import load_dotenv\n",
    "\n",
    "from IPython.core.interactiveshell import InteractiveShell\n",
    "InteractiveShell.ast_node_interactivity = \"all\"\n",
    "from IPython.display import clear_output, display\n",
    "from IPython.core.display import HTML, JSON\n",
    "\n",
    "import requests\n",
    "from bs4 import BeautifulSoup\n",
    "\n",
    "\n",
    "import sys\n",
    "sys.path.append('../') # add the project's root directory to the system path\n",
    "\n",
    "from utils_excel import * # import the utils_excel module from the project's root directory\n"
   ]
  },
  {
   "cell_type": "code",
   "execution_count": 2,
   "id": "325ebf4e-1ebd-4956-9930-8327371c7f9b",
   "metadata": {
    "tags": []
   },
   "outputs": [
    {
     "data": {
      "text/plain": [
       "True"
      ]
     },
     "execution_count": 2,
     "metadata": {},
     "output_type": "execute_result"
    }
   ],
   "source": [
    "load_dotenv()\n",
    "api_key = os.getenv(\"DC_KEY\")"
   ]
  },
  {
   "cell_type": "code",
   "execution_count": null,
   "id": "50ab4e86-f975-4158-9387-6a9d5e3e7e18",
   "metadata": {},
   "outputs": [
    {
     "data": {
      "text/html": [
       "<div>\n",
       "<style scoped>\n",
       "    .dataframe tbody tr th:only-of-type {\n",
       "        vertical-align: middle;\n",
       "    }\n",
       "\n",
       "    .dataframe tbody tr th {\n",
       "        vertical-align: top;\n",
       "    }\n",
       "\n",
       "    .dataframe thead th {\n",
       "        text-align: right;\n",
       "    }\n",
       "</style>\n",
       "<table border=\"1\" class=\"dataframe\">\n",
       "  <thead>\n",
       "    <tr style=\"text-align: right;\">\n",
       "      <th></th>\n",
       "      <th>dcid</th>\n",
       "      <th>name</th>\n",
       "      <th>typeOf</th>\n",
       "      <th>DC Graph Browser URL</th>\n",
       "    </tr>\n",
       "  </thead>\n",
       "  <tbody>\n",
       "    <tr>\n",
       "      <th>0</th>\n",
       "      <td>SDG_AG_LND_FRSTBIOM</td>\n",
       "      <td>Above-ground biomass in forest</td>\n",
       "      <td>SDG_Series</td>\n",
       "      <td>https://datacommons.org/browser/SDG_AG_LND_FRS...</td>\n",
       "    </tr>\n",
       "    <tr>\n",
       "      <th>1</th>\n",
       "      <td>SDG_AG_LND_FRSTBIOPHA</td>\n",
       "      <td>Above-ground biomass in forest</td>\n",
       "      <td>SDG_Series</td>\n",
       "      <td>https://datacommons.org/browser/SDG_AG_LND_FRS...</td>\n",
       "    </tr>\n",
       "    <tr>\n",
       "      <th>2</th>\n",
       "      <td>SDG_SE_AGP_CPRA</td>\n",
       "      <td>Adjusted gender parity index for completion rate</td>\n",
       "      <td>SDG_Series</td>\n",
       "      <td>https://datacommons.org/browser/SDG_SE_AGP_CPRA</td>\n",
       "    </tr>\n",
       "    <tr>\n",
       "      <th>3</th>\n",
       "      <td>SDG_SE_GPI_PART</td>\n",
       "      <td>Adjusted gender parity index for participation...</td>\n",
       "      <td>SDG_Series</td>\n",
       "      <td>https://datacommons.org/browser/SDG_SE_GPI_PART</td>\n",
       "    </tr>\n",
       "    <tr>\n",
       "      <th>4</th>\n",
       "      <td>SDG_SE_GPI_PTNPRE</td>\n",
       "      <td>Adjusted gender parity index for participation...</td>\n",
       "      <td>SDG_Series</td>\n",
       "      <td>https://datacommons.org/browser/SDG_SE_GPI_PTNPRE</td>\n",
       "    </tr>\n",
       "  </tbody>\n",
       "</table>\n",
       "</div>"
      ],
      "text/plain": [
       "                    dcid                                               name   \n",
       "0    SDG_AG_LND_FRSTBIOM                     Above-ground biomass in forest  \\\n",
       "1  SDG_AG_LND_FRSTBIOPHA                     Above-ground biomass in forest   \n",
       "2        SDG_SE_AGP_CPRA   Adjusted gender parity index for completion rate   \n",
       "3        SDG_SE_GPI_PART  Adjusted gender parity index for participation...   \n",
       "4      SDG_SE_GPI_PTNPRE  Adjusted gender parity index for participation...   \n",
       "\n",
       "       typeOf                               DC Graph Browser URL  \n",
       "0  SDG_Series  https://datacommons.org/browser/SDG_AG_LND_FRS...  \n",
       "1  SDG_Series  https://datacommons.org/browser/SDG_AG_LND_FRS...  \n",
       "2  SDG_Series    https://datacommons.org/browser/SDG_SE_AGP_CPRA  \n",
       "3  SDG_Series    https://datacommons.org/browser/SDG_SE_GPI_PART  \n",
       "4  SDG_Series  https://datacommons.org/browser/SDG_SE_GPI_PTNPRE  "
      ]
     },
     "execution_count": 3,
     "metadata": {},
     "output_type": "execute_result"
    }
   ],
   "source": [
    "sdg_series = pd.read_excel('../data/input/SDG_Series.xlsx')\n",
    "sdg_series.head()"
   ]
  },
  {
   "cell_type": "code",
   "execution_count": null,
   "id": "866b7c24-1833-4a9e-9c59-715e8dc26f95",
   "metadata": {},
   "outputs": [],
   "source": [
    "def call_api(endpoint, parameters):\n",
    "    url = f\"http://api.datacommons.org/{endpoint}{parameters}?key={api_key}\"\n",
    "    print(f\"http://api.datacommons.org/{endpoint}{parameters}\")\n",
    "    response = requests.get(url)\n",
    "    return json.loads(response.content)"
   ]
  },
  {
   "cell_type": "markdown",
   "id": "6e63c366-7456-433a-94fb-23cd35fc249c",
   "metadata": {},
   "source": [
    "# Local graph exploration"
   ]
  },
  {
   "cell_type": "markdown",
   "id": "f8bf2c61-e684-4a2e-b04b-33aba94004a4",
   "metadata": {},
   "source": [
    "## 1. Get all properties associated with a specific node\n",
    "\n",
    "Get all properties associated with a specific node.\n",
    "\n",
    "More specifically, this endpoint returns the labels of the edges connected to a specific node in the Data Commons Knowledge Graph. Edges in the graph are directed, so properties can either be labels for edges towards or away from the node. Outgoing edges correspond to properties of the node. Incoming edges denote that the node is the value of this property for some other node."
   ]
  },
  {
   "cell_type": "code",
   "execution_count": 27,
   "id": "ac0723ee-bc9e-4e35-bde4-0bb43c83df1f",
   "metadata": {
    "tags": []
   },
   "outputs": [
    {
     "name": "stdout",
     "output_type": "stream",
     "text": [
      "http://api.datacommons.org/v1/properties/in/SDG_SE_AGP_CPRA\n"
     ]
    },
    {
     "data": {
      "text/plain": [
       "{'node': 'SDG_SE_AGP_CPRA', 'properties': ['populationType']}"
      ]
     },
     "execution_count": 27,
     "metadata": {},
     "output_type": "execute_result"
    },
    {
     "name": "stdout",
     "output_type": "stream",
     "text": [
      "http://api.datacommons.org/v1/properties/out/SDG_SE_AGP_CPRA\n"
     ]
    },
    {
     "data": {
      "text/plain": [
       "{'node': 'SDG_SE_AGP_CPRA', 'properties': ['name', 'provenance', 'typeOf']}"
      ]
     },
     "execution_count": 27,
     "metadata": {},
     "output_type": "execute_result"
    }
   ],
   "source": [
    "call_api(\"v1/properties\", \"/in/SDG_SE_AGP_CPRA\")\n",
    "call_api(\"v1/properties\", \"/out/SDG_SE_AGP_CPRA\")"
   ]
  },
  {
   "cell_type": "markdown",
   "id": "1bd47694-92f4-449e-aab3-c9f13bae29a7",
   "metadata": {},
   "source": [
    "## 2. Get the value for a property of a specific node\n",
    "\n",
    "Get the values of a property for a specific node.\n",
    "\n",
    "Data Commons represents properties as labels of directed edges between nodes, where the successor node is a value of the property. Thus, this endpoint returns nodes connected to the queried node via the property queried."
   ]
  },
  {
   "cell_type": "code",
   "execution_count": 30,
   "id": "423bc8f4-446c-4d9d-9700-a50323976afc",
   "metadata": {
    "tags": []
   },
   "outputs": [
    {
     "name": "stdout",
     "output_type": "stream",
     "text": [
      "http://api.datacommons.org/v1/property/values/out/SDG_SE_AGP_CPRA/name\n"
     ]
    },
    {
     "data": {
      "text/plain": [
       "{'values': [{'provenanceId': 'dc/base/BaseSchema',\n",
       "   'value': 'Adjusted gender parity index for completion rate'}]}"
      ]
     },
     "execution_count": 30,
     "metadata": {},
     "output_type": "execute_result"
    },
    {
     "name": "stdout",
     "output_type": "stream",
     "text": [
      "---\n",
      "http://api.datacommons.org/v1/property/values/out/SDG_SE_AGP_CPRA/provenance\n"
     ]
    },
    {
     "data": {
      "text/plain": [
       "{'values': [{'name': 'BaseSchema',\n",
       "   'types': ['Provenance'],\n",
       "   'dcid': 'dc/base/BaseSchema',\n",
       "   'provenanceId': 'dc/base/BaseSchema'}]}"
      ]
     },
     "execution_count": 30,
     "metadata": {},
     "output_type": "execute_result"
    },
    {
     "name": "stdout",
     "output_type": "stream",
     "text": [
      "---\n",
      "http://api.datacommons.org/v1/property/values/out/SDG_SE_AGP_CPRA/typeOf\n"
     ]
    },
    {
     "data": {
      "text/plain": [
       "{'values': [{'name': 'SDG_Series',\n",
       "   'types': ['Class'],\n",
       "   'dcid': 'SDG_Series',\n",
       "   'provenanceId': 'dc/base/BaseSchema'}]}"
      ]
     },
     "execution_count": 30,
     "metadata": {},
     "output_type": "execute_result"
    },
    {
     "name": "stdout",
     "output_type": "stream",
     "text": [
      "---\n",
      "http://api.datacommons.org/v1/property/values/in/SDG_SE_AGP_CPRA/populationType\n"
     ]
    },
    {
     "data": {
      "text/plain": [
       "{'values': [{'name': 'Adjusted gender parity index for completion rate: Lower secondary',\n",
       "   'types': ['StatisticalVariable'],\n",
       "   'dcid': 'sdg/SE_AGP_CPRA_LOWSEC',\n",
       "   'provenanceId': 'dc/base/HumanReadableStatVars'},\n",
       "  {'name': 'Adjusted gender parity index for completion rate: Lower secondary, Quantile 1 (poorest)',\n",
       "   'types': ['StatisticalVariable'],\n",
       "   'dcid': 'sdg/SE_AGP_CPRA_LOWSEC_Q1',\n",
       "   'provenanceId': 'dc/base/HumanReadableStatVars'},\n",
       "  {'name': 'Adjusted gender parity index for completion rate: Lower secondary, Quantile 2',\n",
       "   'types': ['StatisticalVariable'],\n",
       "   'dcid': 'sdg/SE_AGP_CPRA_LOWSEC_Q2',\n",
       "   'provenanceId': 'dc/base/HumanReadableStatVars'},\n",
       "  {'name': 'Adjusted gender parity index for completion rate: Lower secondary, Quantile 3',\n",
       "   'types': ['StatisticalVariable'],\n",
       "   'dcid': 'sdg/SE_AGP_CPRA_LOWSEC_Q3',\n",
       "   'provenanceId': 'dc/base/HumanReadableStatVars'},\n",
       "  {'name': 'Adjusted gender parity index for completion rate: Lower secondary, Quantile 4',\n",
       "   'types': ['StatisticalVariable'],\n",
       "   'dcid': 'sdg/SE_AGP_CPRA_LOWSEC_Q4',\n",
       "   'provenanceId': 'dc/base/HumanReadableStatVars'},\n",
       "  {'name': 'Adjusted gender parity index for completion rate: Lower secondary, Quantile 5 (richest)',\n",
       "   'types': ['StatisticalVariable'],\n",
       "   'dcid': 'sdg/SE_AGP_CPRA_LOWSEC_Q5',\n",
       "   'provenanceId': 'dc/base/HumanReadableStatVars'},\n",
       "  {'name': 'Adjusted gender parity index for completion rate: Lower secondary, Rural',\n",
       "   'types': ['StatisticalVariable'],\n",
       "   'dcid': 'sdg/SE_AGP_CPRA_LOWSEC_RURAL',\n",
       "   'provenanceId': 'dc/base/HumanReadableStatVars'},\n",
       "  {'name': 'Adjusted gender parity index for completion rate: Lower secondary, Rural, Quantile 1 (poorest)',\n",
       "   'types': ['StatisticalVariable'],\n",
       "   'dcid': 'sdg/SE_AGP_CPRA_LOWSEC_RURAL_Q1',\n",
       "   'provenanceId': 'dc/base/HumanReadableStatVars'},\n",
       "  {'name': 'Adjusted gender parity index for completion rate: Lower secondary, Rural, Quantile 2',\n",
       "   'types': ['StatisticalVariable'],\n",
       "   'dcid': 'sdg/SE_AGP_CPRA_LOWSEC_RURAL_Q2',\n",
       "   'provenanceId': 'dc/base/HumanReadableStatVars'},\n",
       "  {'name': 'Adjusted gender parity index for completion rate: Lower secondary, Rural, Quantile 3',\n",
       "   'types': ['StatisticalVariable'],\n",
       "   'dcid': 'sdg/SE_AGP_CPRA_LOWSEC_RURAL_Q3',\n",
       "   'provenanceId': 'dc/base/HumanReadableStatVars'},\n",
       "  {'name': 'Adjusted gender parity index for completion rate: Lower secondary, Rural, Quantile 4',\n",
       "   'types': ['StatisticalVariable'],\n",
       "   'dcid': 'sdg/SE_AGP_CPRA_LOWSEC_RURAL_Q4',\n",
       "   'provenanceId': 'dc/base/HumanReadableStatVars'},\n",
       "  {'name': 'Adjusted gender parity index for completion rate: Lower secondary, Rural, Quantile 5 (richest)',\n",
       "   'types': ['StatisticalVariable'],\n",
       "   'dcid': 'sdg/SE_AGP_CPRA_LOWSEC_RURAL_Q5',\n",
       "   'provenanceId': 'dc/base/HumanReadableStatVars'},\n",
       "  {'name': 'Adjusted gender parity index for completion rate: Lower secondary, Urban',\n",
       "   'types': ['StatisticalVariable'],\n",
       "   'dcid': 'sdg/SE_AGP_CPRA_LOWSEC_URBAN',\n",
       "   'provenanceId': 'dc/base/HumanReadableStatVars'},\n",
       "  {'name': 'Adjusted gender parity index for completion rate: Lower secondary, Urban, Quantile 1 (poorest)',\n",
       "   'types': ['StatisticalVariable'],\n",
       "   'dcid': 'sdg/SE_AGP_CPRA_LOWSEC_URBAN_Q1',\n",
       "   'provenanceId': 'dc/base/HumanReadableStatVars'},\n",
       "  {'name': 'Adjusted gender parity index for completion rate: Lower secondary, Urban, Quantile 2',\n",
       "   'types': ['StatisticalVariable'],\n",
       "   'dcid': 'sdg/SE_AGP_CPRA_LOWSEC_URBAN_Q2',\n",
       "   'provenanceId': 'dc/base/HumanReadableStatVars'},\n",
       "  {'name': 'Adjusted gender parity index for completion rate: Lower secondary, Urban, Quantile 3',\n",
       "   'types': ['StatisticalVariable'],\n",
       "   'dcid': 'sdg/SE_AGP_CPRA_LOWSEC_URBAN_Q3',\n",
       "   'provenanceId': 'dc/base/HumanReadableStatVars'},\n",
       "  {'name': 'Adjusted gender parity index for completion rate: Lower secondary, Urban, Quantile 4',\n",
       "   'types': ['StatisticalVariable'],\n",
       "   'dcid': 'sdg/SE_AGP_CPRA_LOWSEC_URBAN_Q4',\n",
       "   'provenanceId': 'dc/base/HumanReadableStatVars'},\n",
       "  {'name': 'Adjusted gender parity index for completion rate: Lower secondary, Urban, Quantile 5 (richest)',\n",
       "   'types': ['StatisticalVariable'],\n",
       "   'dcid': 'sdg/SE_AGP_CPRA_LOWSEC_URBAN_Q5',\n",
       "   'provenanceId': 'dc/base/HumanReadableStatVars'},\n",
       "  {'name': 'Adjusted gender parity index for completion rate: Primary',\n",
       "   'types': ['StatisticalVariable'],\n",
       "   'dcid': 'sdg/SE_AGP_CPRA_PRIMAR',\n",
       "   'provenanceId': 'dc/base/HumanReadableStatVars'},\n",
       "  {'name': 'Adjusted gender parity index for completion rate: Primary, Quantile 1 (poorest)',\n",
       "   'types': ['StatisticalVariable'],\n",
       "   'dcid': 'sdg/SE_AGP_CPRA_PRIMAR_Q1',\n",
       "   'provenanceId': 'dc/base/HumanReadableStatVars'},\n",
       "  {'name': 'Adjusted gender parity index for completion rate: Primary, Quantile 2',\n",
       "   'types': ['StatisticalVariable'],\n",
       "   'dcid': 'sdg/SE_AGP_CPRA_PRIMAR_Q2',\n",
       "   'provenanceId': 'dc/base/HumanReadableStatVars'},\n",
       "  {'name': 'Adjusted gender parity index for completion rate: Primary, Quantile 3',\n",
       "   'types': ['StatisticalVariable'],\n",
       "   'dcid': 'sdg/SE_AGP_CPRA_PRIMAR_Q3',\n",
       "   'provenanceId': 'dc/base/HumanReadableStatVars'},\n",
       "  {'name': 'Adjusted gender parity index for completion rate: Primary, Quantile 4',\n",
       "   'types': ['StatisticalVariable'],\n",
       "   'dcid': 'sdg/SE_AGP_CPRA_PRIMAR_Q4',\n",
       "   'provenanceId': 'dc/base/HumanReadableStatVars'},\n",
       "  {'name': 'Adjusted gender parity index for completion rate: Primary, Quantile 5 (richest)',\n",
       "   'types': ['StatisticalVariable'],\n",
       "   'dcid': 'sdg/SE_AGP_CPRA_PRIMAR_Q5',\n",
       "   'provenanceId': 'dc/base/HumanReadableStatVars'},\n",
       "  {'name': 'Adjusted gender parity index for completion rate: Primary, Rural',\n",
       "   'types': ['StatisticalVariable'],\n",
       "   'dcid': 'sdg/SE_AGP_CPRA_PRIMAR_RURAL',\n",
       "   'provenanceId': 'dc/base/HumanReadableStatVars'},\n",
       "  {'name': 'Adjusted gender parity index for completion rate: Primary, Rural, Quantile 1 (poorest)',\n",
       "   'types': ['StatisticalVariable'],\n",
       "   'dcid': 'sdg/SE_AGP_CPRA_PRIMAR_RURAL_Q1',\n",
       "   'provenanceId': 'dc/base/HumanReadableStatVars'},\n",
       "  {'name': 'Adjusted gender parity index for completion rate: Primary, Rural, Quantile 2',\n",
       "   'types': ['StatisticalVariable'],\n",
       "   'dcid': 'sdg/SE_AGP_CPRA_PRIMAR_RURAL_Q2',\n",
       "   'provenanceId': 'dc/base/HumanReadableStatVars'},\n",
       "  {'name': 'Adjusted gender parity index for completion rate: Primary, Rural, Quantile 3',\n",
       "   'types': ['StatisticalVariable'],\n",
       "   'dcid': 'sdg/SE_AGP_CPRA_PRIMAR_RURAL_Q3',\n",
       "   'provenanceId': 'dc/base/HumanReadableStatVars'},\n",
       "  {'name': 'Adjusted gender parity index for completion rate: Primary, Rural, Quantile 4',\n",
       "   'types': ['StatisticalVariable'],\n",
       "   'dcid': 'sdg/SE_AGP_CPRA_PRIMAR_RURAL_Q4',\n",
       "   'provenanceId': 'dc/base/HumanReadableStatVars'},\n",
       "  {'name': 'Adjusted gender parity index for completion rate: Primary, Rural, Quantile 5 (richest)',\n",
       "   'types': ['StatisticalVariable'],\n",
       "   'dcid': 'sdg/SE_AGP_CPRA_PRIMAR_RURAL_Q5',\n",
       "   'provenanceId': 'dc/base/HumanReadableStatVars'},\n",
       "  {'name': 'Adjusted gender parity index for completion rate: Primary, Urban',\n",
       "   'types': ['StatisticalVariable'],\n",
       "   'dcid': 'sdg/SE_AGP_CPRA_PRIMAR_URBAN',\n",
       "   'provenanceId': 'dc/base/HumanReadableStatVars'},\n",
       "  {'name': 'Adjusted gender parity index for completion rate: Primary, Urban, Quantile 1 (poorest)',\n",
       "   'types': ['StatisticalVariable'],\n",
       "   'dcid': 'sdg/SE_AGP_CPRA_PRIMAR_URBAN_Q1',\n",
       "   'provenanceId': 'dc/base/HumanReadableStatVars'},\n",
       "  {'name': 'Adjusted gender parity index for completion rate: Primary, Urban, Quantile 2',\n",
       "   'types': ['StatisticalVariable'],\n",
       "   'dcid': 'sdg/SE_AGP_CPRA_PRIMAR_URBAN_Q2',\n",
       "   'provenanceId': 'dc/base/HumanReadableStatVars'},\n",
       "  {'name': 'Adjusted gender parity index for completion rate: Primary, Urban, Quantile 3',\n",
       "   'types': ['StatisticalVariable'],\n",
       "   'dcid': 'sdg/SE_AGP_CPRA_PRIMAR_URBAN_Q3',\n",
       "   'provenanceId': 'dc/base/HumanReadableStatVars'},\n",
       "  {'name': 'Adjusted gender parity index for completion rate: Primary, Urban, Quantile 4',\n",
       "   'types': ['StatisticalVariable'],\n",
       "   'dcid': 'sdg/SE_AGP_CPRA_PRIMAR_URBAN_Q4',\n",
       "   'provenanceId': 'dc/base/HumanReadableStatVars'},\n",
       "  {'name': 'Adjusted gender parity index for completion rate: Primary, Urban, Quantile 5 (richest)',\n",
       "   'types': ['StatisticalVariable'],\n",
       "   'dcid': 'sdg/SE_AGP_CPRA_PRIMAR_URBAN_Q5',\n",
       "   'provenanceId': 'dc/base/HumanReadableStatVars'},\n",
       "  {'name': 'Adjusted gender parity index for completion rate: Upper secondary',\n",
       "   'types': ['StatisticalVariable'],\n",
       "   'dcid': 'sdg/SE_AGP_CPRA_UPPSEC',\n",
       "   'provenanceId': 'dc/base/HumanReadableStatVars'},\n",
       "  {'name': 'Adjusted gender parity index for completion rate: Upper secondary, Quantile 1 (poorest)',\n",
       "   'types': ['StatisticalVariable'],\n",
       "   'dcid': 'sdg/SE_AGP_CPRA_UPPSEC_Q1',\n",
       "   'provenanceId': 'dc/base/HumanReadableStatVars'},\n",
       "  {'name': 'Adjusted gender parity index for completion rate: Upper secondary, Quantile 2',\n",
       "   'types': ['StatisticalVariable'],\n",
       "   'dcid': 'sdg/SE_AGP_CPRA_UPPSEC_Q2',\n",
       "   'provenanceId': 'dc/base/HumanReadableStatVars'},\n",
       "  {'name': 'Adjusted gender parity index for completion rate: Upper secondary, Quantile 3',\n",
       "   'types': ['StatisticalVariable'],\n",
       "   'dcid': 'sdg/SE_AGP_CPRA_UPPSEC_Q3',\n",
       "   'provenanceId': 'dc/base/HumanReadableStatVars'},\n",
       "  {'name': 'Adjusted gender parity index for completion rate: Upper secondary, Quantile 4',\n",
       "   'types': ['StatisticalVariable'],\n",
       "   'dcid': 'sdg/SE_AGP_CPRA_UPPSEC_Q4',\n",
       "   'provenanceId': 'dc/base/HumanReadableStatVars'},\n",
       "  {'name': 'Adjusted gender parity index for completion rate: Upper secondary, Quantile 5 (richest)',\n",
       "   'types': ['StatisticalVariable'],\n",
       "   'dcid': 'sdg/SE_AGP_CPRA_UPPSEC_Q5',\n",
       "   'provenanceId': 'dc/base/HumanReadableStatVars'},\n",
       "  {'name': 'Adjusted gender parity index for completion rate: Upper secondary, Rural',\n",
       "   'types': ['StatisticalVariable'],\n",
       "   'dcid': 'sdg/SE_AGP_CPRA_UPPSEC_RURAL',\n",
       "   'provenanceId': 'dc/base/HumanReadableStatVars'},\n",
       "  {'name': 'Adjusted gender parity index for completion rate: Upper secondary, Rural, Quantile 1 (poorest)',\n",
       "   'types': ['StatisticalVariable'],\n",
       "   'dcid': 'sdg/SE_AGP_CPRA_UPPSEC_RURAL_Q1',\n",
       "   'provenanceId': 'dc/base/HumanReadableStatVars'},\n",
       "  {'name': 'Adjusted gender parity index for completion rate: Upper secondary, Rural, Quantile 2',\n",
       "   'types': ['StatisticalVariable'],\n",
       "   'dcid': 'sdg/SE_AGP_CPRA_UPPSEC_RURAL_Q2',\n",
       "   'provenanceId': 'dc/base/HumanReadableStatVars'},\n",
       "  {'name': 'Adjusted gender parity index for completion rate: Upper secondary, Rural, Quantile 3',\n",
       "   'types': ['StatisticalVariable'],\n",
       "   'dcid': 'sdg/SE_AGP_CPRA_UPPSEC_RURAL_Q3',\n",
       "   'provenanceId': 'dc/base/HumanReadableStatVars'},\n",
       "  {'name': 'Adjusted gender parity index for completion rate: Upper secondary, Rural, Quantile 4',\n",
       "   'types': ['StatisticalVariable'],\n",
       "   'dcid': 'sdg/SE_AGP_CPRA_UPPSEC_RURAL_Q4',\n",
       "   'provenanceId': 'dc/base/HumanReadableStatVars'},\n",
       "  {'name': 'Adjusted gender parity index for completion rate: Upper secondary, Rural, Quantile 5 (richest)',\n",
       "   'types': ['StatisticalVariable'],\n",
       "   'dcid': 'sdg/SE_AGP_CPRA_UPPSEC_RURAL_Q5',\n",
       "   'provenanceId': 'dc/base/HumanReadableStatVars'},\n",
       "  {'name': 'Adjusted gender parity index for completion rate: Upper secondary, Urban',\n",
       "   'types': ['StatisticalVariable'],\n",
       "   'dcid': 'sdg/SE_AGP_CPRA_UPPSEC_URBAN',\n",
       "   'provenanceId': 'dc/base/HumanReadableStatVars'},\n",
       "  {'name': 'Adjusted gender parity index for completion rate: Upper secondary, Urban, Quantile 1 (poorest)',\n",
       "   'types': ['StatisticalVariable'],\n",
       "   'dcid': 'sdg/SE_AGP_CPRA_UPPSEC_URBAN_Q1',\n",
       "   'provenanceId': 'dc/base/HumanReadableStatVars'},\n",
       "  {'name': 'Adjusted gender parity index for completion rate: Upper secondary, Urban, Quantile 2',\n",
       "   'types': ['StatisticalVariable'],\n",
       "   'dcid': 'sdg/SE_AGP_CPRA_UPPSEC_URBAN_Q2',\n",
       "   'provenanceId': 'dc/base/HumanReadableStatVars'},\n",
       "  {'name': 'Adjusted gender parity index for completion rate: Upper secondary, Urban, Quantile 3',\n",
       "   'types': ['StatisticalVariable'],\n",
       "   'dcid': 'sdg/SE_AGP_CPRA_UPPSEC_URBAN_Q3',\n",
       "   'provenanceId': 'dc/base/HumanReadableStatVars'},\n",
       "  {'name': 'Adjusted gender parity index for completion rate: Upper secondary, Urban, Quantile 4',\n",
       "   'types': ['StatisticalVariable'],\n",
       "   'dcid': 'sdg/SE_AGP_CPRA_UPPSEC_URBAN_Q4',\n",
       "   'provenanceId': 'dc/base/HumanReadableStatVars'},\n",
       "  {'name': 'Adjusted gender parity index for completion rate: Upper secondary, Urban, Quantile 5 (richest)',\n",
       "   'types': ['StatisticalVariable'],\n",
       "   'dcid': 'sdg/SE_AGP_CPRA_UPPSEC_URBAN_Q5',\n",
       "   'provenanceId': 'dc/base/HumanReadableStatVars'}]}"
      ]
     },
     "execution_count": 30,
     "metadata": {},
     "output_type": "execute_result"
    }
   ],
   "source": [
    "\n",
    "call_api(\"v1/property/values\", \"/out/SDG_SE_AGP_CPRA/name\")\n",
    "print('---')\n",
    "call_api(\"v1/property/values\", \"/out/SDG_SE_AGP_CPRA/provenance\")\n",
    "print('---')\n",
    "call_api(\"v1/property/values\", \"/out/SDG_SE_AGP_CPRA/typeOf\")\n",
    "print('---')\n",
    "call_api(\"v1/property/values\", \"/in/SDG_SE_AGP_CPRA/populationType\")\n"
   ]
  },
  {
   "cell_type": "markdown",
   "id": "cbbb903a-76d8-459e-87ff-6c17bc7646de",
   "metadata": {},
   "source": [
    "## 3. Variable info\n",
    "\n",
    "Get basic information about a variable.\n",
    "\n",
    "This API returns basic information on a variable, given the variable’s DCID. The information provided includes the number of entities that have data for the variable, the minimum and maximum value observed, and the name and DCID of the top 3 entities with highest observed values for that variable. The information is grouped by place type (country, state, county, etc.)."
   ]
  },
  {
   "cell_type": "code",
   "execution_count": 31,
   "id": "d2ed5db4-8a93-4323-9f9b-9497afc5e2cc",
   "metadata": {
    "tags": []
   },
   "outputs": [
    {
     "name": "stdout",
     "output_type": "stream",
     "text": [
      "http://api.datacommons.org/v1/info/variable/sdg/SE_AGP_CPRA_LOWSEC\n"
     ]
    },
    {
     "data": {
      "text/plain": [
       "{'node': 'sdg/SE_AGP_CPRA_LOWSEC',\n",
       " 'info': {'placeTypeSummary': {'Country': {'topPlaces': [{'dcid': 'country/CHN',\n",
       "      'name': 'China'},\n",
       "     {'dcid': 'country/IND', 'name': 'India'},\n",
       "     {'dcid': 'country/USA', 'name': 'United States'}],\n",
       "    'placeCount': 160,\n",
       "    'minValue': 0.25212,\n",
       "    'maxValue': 1.46474}},\n",
       "  'provenanceSummary': {'dc/base/UN_SDGIndicators': {'importName': 'UN_SDGIndicators',\n",
       "    'seriesSummary': [{'seriesKey': {'observationPeriod': 'P1Y',\n",
       "       'unit': 'Ratio'},\n",
       "      'earliestDate': '2000',\n",
       "      'latestDate': '2020',\n",
       "      'placeTypeSummary': {'Country': {'topPlaces': [{'dcid': 'country/CHN',\n",
       "          'name': 'China'},\n",
       "         {'dcid': 'country/IND', 'name': 'India'},\n",
       "         {'dcid': 'country/USA', 'name': 'United States'}],\n",
       "        'placeCount': 160,\n",
       "        'minValue': 0.25212,\n",
       "        'maxValue': 1.46474}},\n",
       "      'minValue': 0.25212,\n",
       "      'maxValue': 1.46474,\n",
       "      'observationCount': 746,\n",
       "      'timeSeriesCount': 160}],\n",
       "    'observationCount': 746,\n",
       "    'timeSeriesCount': 160}}}}"
      ]
     },
     "execution_count": 31,
     "metadata": {},
     "output_type": "execute_result"
    }
   ],
   "source": [
    "call_api(\"v1/info/variable\", \"/sdg/SE_AGP_CPRA_LOWSEC\")"
   ]
  },
  {
   "cell_type": "markdown",
   "id": "aefe740a-cec4-4d3c-94a4-83aebaf66ad0",
   "metadata": {},
   "source": [
    "## 4. Triples\n",
    "Get a triple.\n",
    "\n",
    "Useful for finding local connections between nodes of the Data Commons knowledge graph."
   ]
  },
  {
   "cell_type": "code",
   "execution_count": 41,
   "id": "87233306-f653-4e1e-ac5f-f432853f64f0",
   "metadata": {
    "tags": []
   },
   "outputs": [
    {
     "name": "stdout",
     "output_type": "stream",
     "text": [
      "http://api.datacommons.org/v1/triples/out/sdg/SE_AGP_CPRA_LOWSEC_Q2\n"
     ]
    },
    {
     "data": {
      "text/plain": [
       "{'triples': {'populationType': {'nodes': [{'name': 'Adjusted gender parity index for completion rate',\n",
       "     'types': ['SDG_Series'],\n",
       "     'dcid': 'SDG_SE_AGP_CPRA',\n",
       "     'provenanceId': 'dc/base/HumanReadableStatVars'}]},\n",
       "  'sdg_quantile': {'nodes': [{'name': 'Quantile 2',\n",
       "     'types': ['SDG_QuantileEnum'],\n",
       "     'dcid': 'SDG_QuantileEnum_Q2',\n",
       "     'provenanceId': 'dc/base/HumanReadableStatVars'}]},\n",
       "  'measuredProperty': {'nodes': [{'name': 'value',\n",
       "     'types': ['Property'],\n",
       "     'dcid': 'value',\n",
       "     'provenanceId': 'dc/base/HumanReadableStatVars'}]},\n",
       "  'provenance': {'nodes': [{'name': 'HumanReadableStatVars',\n",
       "     'types': ['Provenance'],\n",
       "     'dcid': 'dc/base/HumanReadableStatVars',\n",
       "     'provenanceId': 'dc/base/HumanReadableStatVars'}]},\n",
       "  'memberOf': {'nodes': [{'name': 'Adjusted Gender Parity Index for Completion Rate With Educational Attainment = Lower Secondary, Quantile = Quantile 2',\n",
       "     'types': ['StatVarGroup'],\n",
       "     'dcid': 'dc/g/SDGSEAGPCPRA_educationalAttainment-SDGEducationLevelEnumLOWSEC_sdgquantile-SDGQuantileEnumQ2',\n",
       "     'provenanceId': 'dc/base/HumanReadableStatVars'}]},\n",
       "  'name': {'nodes': [{'provenanceId': 'dc/base/HumanReadableStatVars',\n",
       "     'value': 'Adjusted gender parity index for completion rate: Lower secondary, Quantile 2'}]},\n",
       "  'constraintProperties': {'nodes': [{'name': 'educationalAttainment',\n",
       "     'types': ['Property'],\n",
       "     'dcid': 'educationalAttainment',\n",
       "     'provenanceId': 'dc/base/HumanReadableStatVars'},\n",
       "    {'name': 'Quantile',\n",
       "     'types': ['Property'],\n",
       "     'dcid': 'sdg_quantile',\n",
       "     'provenanceId': 'dc/base/HumanReadableStatVars'}]},\n",
       "  'educationalAttainment': {'nodes': [{'name': 'Lower secondary',\n",
       "     'types': ['SDG_EducationLevelEnum'],\n",
       "     'dcid': 'SDG_EducationLevelEnum_LOWSEC',\n",
       "     'provenanceId': 'dc/base/HumanReadableStatVars'}]},\n",
       "  'statType': {'nodes': [{'name': 'measuredValue',\n",
       "     'types': ['Property'],\n",
       "     'dcid': 'measuredValue',\n",
       "     'provenanceId': 'dc/base/HumanReadableStatVars'}]},\n",
       "  'typeOf': {'nodes': [{'name': 'StatisticalVariable',\n",
       "     'types': ['Class'],\n",
       "     'dcid': 'StatisticalVariable',\n",
       "     'provenanceId': 'dc/base/HumanReadableStatVars'}]}}}"
      ]
     },
     "execution_count": 41,
     "metadata": {},
     "output_type": "execute_result"
    }
   ],
   "source": [
    "\n",
    "#  The statistical variable \"sdg/SE_AGP_CPRA_LOWSEC_Q2\" has:\n",
    "#\n",
    "#   - name: \n",
    "#       \"Adjusted gender parity index for completion rate: Lower secondary, Quantile 2\"\n",
    "#\n",
    "#   - typeOf: \n",
    "#       StatisticalVariable (Class)\n",
    "#\n",
    "#   - populationType: \n",
    "#       SDG_SE_AGP_CPRA (SDG_Series)\n",
    "#\n",
    "#   - constraintProperties: \n",
    "#       [educationalAttainment (Property), sdq_quantile (Property)] \n",
    "#\n",
    "#   - sdg_quantile: \n",
    "#       SDG_QuantileEnum_Q2 (SDG_QuantileEnum)\n",
    "#\n",
    "#   - educationalAttainment: \n",
    "#       SDG_EducationLevelEnum_LOWSEC (SDG_EducationLevelEnum)\n",
    "#\n",
    "#   - statType: \n",
    "#       measuredValue (Property)\n",
    "#\n",
    "#   - provenance: \n",
    "#       dc/base/HumanReadableStatVars (Provenance)\n",
    "#\n",
    "#   - memberOf: \n",
    "#       dc/g/SDGSEAGPCPRA_educationalAttainment-SDGEducationLevelEnumLOWSEC_sdgquantile-SDGQuantileEnumQ2 (StatVarGroup)\n",
    "\n",
    "call_api(\"v1/triples\", \"/out/sdg/SE_AGP_CPRA_LOWSEC_Q2\")"
   ]
  },
  {
   "cell_type": "code",
   "execution_count": 44,
   "id": "5597a267-6a8d-4936-899e-3157c09fc976",
   "metadata": {
    "tags": []
   },
   "outputs": [
    {
     "name": "stdout",
     "output_type": "stream",
     "text": [
      "http://api.datacommons.org/v1/triples/out/dc/g/SDGSEAGPCPRA_educationalAttainment-SDGEducationLevelEnumLOWSEC_sdgquantile-SDGQuantileEnumQ2\n"
     ]
    },
    {
     "data": {
      "text/plain": [
       "{'triples': {'name': {'nodes': [{'provenanceId': 'dc/base/GeneratedGraphs',\n",
       "     'value': 'Adjusted Gender Parity Index for Completion Rate With Educational Attainment = Lower Secondary, Quantile = Quantile 2'}]},\n",
       "  'provenance': {'nodes': [{'name': 'GeneratedGraphs',\n",
       "     'types': ['Provenance'],\n",
       "     'dcid': 'dc/base/GeneratedGraphs',\n",
       "     'provenanceId': 'dc/base/GeneratedGraphs'}]},\n",
       "  'specializationOf': {'nodes': [{'name': 'Adjusted Gender Parity Index for Completion Rate With Educational Attainment = Lower Secondary, Quantile',\n",
       "     'types': ['StatVarGroup'],\n",
       "     'dcid': 'dc/g/SDGSEAGPCPRA_educationalAttainment-SDGEducationLevelEnumLOWSEC_sdgquantile',\n",
       "     'provenanceId': 'dc/base/GeneratedGraphs'},\n",
       "    {'name': 'Adjusted Gender Parity Index for Completion Rate With Educational Attainment, Quantile = Quantile 2',\n",
       "     'types': ['StatVarGroup'],\n",
       "     'dcid': 'dc/g/SDGSEAGPCPRA_educationalAttainment_sdgquantile-SDGQuantileEnumQ2',\n",
       "     'provenanceId': 'dc/base/GeneratedGraphs'}]},\n",
       "  'typeOf': {'nodes': [{'name': 'StatVarGroup',\n",
       "     'types': ['Class'],\n",
       "     'dcid': 'StatVarGroup',\n",
       "     'provenanceId': 'dc/base/GeneratedGraphs'}]}}}"
      ]
     },
     "execution_count": 44,
     "metadata": {},
     "output_type": "execute_result"
    }
   ],
   "source": [
    "#  The StatVarGroup \"/dc/g/SDGSEAGPCPRA_educationalAttainment-SDGEducationLevelEnumLOWSEC_sdgquantile-SDGQuantileEnumQ2\" has:\n",
    "#\n",
    "#   - name: \n",
    "#       \"Adjusted Gender Parity Index for Completion Rate With Educational Attainment = Lower Secondary, Quantile = Quantile 2\"\n",
    "#\n",
    "#   - typeOf: \n",
    "#       StatVarGroup (Class)\n",
    "#\n",
    "#   - specializationOf: \n",
    "#       [\n",
    "#        dc/g/SDGSEAGPCPRA_educationalAttainment-SDGEducationLevelEnumLOWSEC_sdgquantile (StatVarGroup) --> \"Adjusted Gender Parity Index for Completion Rate With Educational Attainment = Lower Secondary, Quantile\",\n",
    "#        dc/g/SDGSEAGPCPRA_educationalAttainment_sdgquantile-SDGQuantileEnumQ2, (StatVarGroup) --> \"Adjusted Gender Parity Index for Completion Rate With Educational Attainment, Quantile = Quantile 2\"\n",
    "#       ]\n",
    "#\n",
    "#   - provenance: \n",
    "#       dc/base/GeneratedGraphs (Provenance)\n",
    "\n",
    "\n",
    "call_api(\"v1/triples\", \"/out/dc/g/SDGSEAGPCPRA_educationalAttainment-SDGEducationLevelEnumLOWSEC_sdgquantile-SDGQuantileEnumQ2\")"
   ]
  },
  {
   "cell_type": "code",
   "execution_count": 47,
   "id": "81af152c-2dd1-4ef2-9b2f-0314934dc49b",
   "metadata": {
    "tags": []
   },
   "outputs": [
    {
     "name": "stdout",
     "output_type": "stream",
     "text": [
      "http://api.datacommons.org/v1/triples/out/StatVarGroup\n"
     ]
    },
    {
     "data": {
      "text/plain": [
       "{'triples': {'typeOf': {'nodes': [{'name': 'Class',\n",
       "     'types': ['Class'],\n",
       "     'dcid': 'Class',\n",
       "     'provenanceId': 'dc/base/BaseSchema'}]},\n",
       "  'description': {'nodes': [{'provenanceId': 'dc/base/BaseSchema',\n",
       "     'value': 'Represents a grouping of StatisticalVariable nodes.'}]},\n",
       "  'name': {'nodes': [{'provenanceId': 'dc/base/BaseSchema',\n",
       "     'value': 'StatVarGroup'}]},\n",
       "  'provenance': {'nodes': [{'name': 'BaseSchema',\n",
       "     'types': ['Provenance'],\n",
       "     'dcid': 'dc/base/BaseSchema',\n",
       "     'provenanceId': 'dc/base/BaseSchema'}]},\n",
       "  'subClassOf': {'nodes': [{'name': 'Intangible',\n",
       "     'types': ['Class'],\n",
       "     'dcid': 'Intangible',\n",
       "     'provenanceId': 'dc/base/BaseSchema'}]}}}"
      ]
     },
     "execution_count": 47,
     "metadata": {},
     "output_type": "execute_result"
    }
   ],
   "source": [
    "call_api(\"v1/triples\", \"/out/StatVarGroup\")"
   ]
  },
  {
   "cell_type": "markdown",
   "id": "cb0f18f3-88f3-44ee-8694-a400aeb085b9",
   "metadata": {},
   "source": [
    "# SPARQL Query"
   ]
  },
  {
   "cell_type": "code",
   "execution_count": 78,
   "id": "f3b00178-f844-4d6e-ab51-cdba7cbe5cd1",
   "metadata": {},
   "outputs": [],
   "source": [
    "# set up the API endpoint URL\n",
    "url = \"https://api.datacommons.org/v1/query\"\n",
    "headers = {\"X-API-Key\": api_key}"
   ]
  },
  {
   "cell_type": "markdown",
   "id": "b0568e19-f59b-47c3-a903-12513f8a4bdc",
   "metadata": {},
   "source": [
    "## 1. Get all resources of type `SDG_Series`"
   ]
  },
  {
   "cell_type": "code",
   "execution_count": 77,
   "id": "70cc3847-0a21-48ac-8304-736151d7c321",
   "metadata": {
    "tags": []
   },
   "outputs": [
    {
     "data": {
      "text/html": [
       "<div>\n",
       "<style scoped>\n",
       "    .dataframe tbody tr th:only-of-type {\n",
       "        vertical-align: middle;\n",
       "    }\n",
       "\n",
       "    .dataframe tbody tr th {\n",
       "        vertical-align: top;\n",
       "    }\n",
       "\n",
       "    .dataframe thead th {\n",
       "        text-align: right;\n",
       "    }\n",
       "</style>\n",
       "<table border=\"1\" class=\"dataframe\">\n",
       "  <thead>\n",
       "    <tr style=\"text-align: right;\">\n",
       "      <th></th>\n",
       "      <th>typeOf</th>\n",
       "      <th>dcid</th>\n",
       "      <th>name</th>\n",
       "    </tr>\n",
       "  </thead>\n",
       "  <tbody>\n",
       "    <tr>\n",
       "      <th>0</th>\n",
       "      <td>SDG_Series</td>\n",
       "      <td>SDG_VC_VOV_SEXL</td>\n",
       "      <td>Proportion of population subjected to sexual v...</td>\n",
       "    </tr>\n",
       "    <tr>\n",
       "      <th>1</th>\n",
       "      <td>SDG_Series</td>\n",
       "      <td>SDG_VC_VOV_SEXL</td>\n",
       "      <td>Proportion of population subjected to sexual v...</td>\n",
       "    </tr>\n",
       "    <tr>\n",
       "      <th>2</th>\n",
       "      <td>SDG_Series</td>\n",
       "      <td>SDG_VC_VOV_SEXL</td>\n",
       "      <td>Proportion of population subjected to sexual v...</td>\n",
       "    </tr>\n",
       "    <tr>\n",
       "      <th>3</th>\n",
       "      <td>SDG_Series</td>\n",
       "      <td>SDG_VC_VOV_ROBB</td>\n",
       "      <td>Proportion of population subjected to robbery ...</td>\n",
       "    </tr>\n",
       "    <tr>\n",
       "      <th>4</th>\n",
       "      <td>SDG_Series</td>\n",
       "      <td>SDG_VC_VOV_ROBB</td>\n",
       "      <td>Proportion of population subjected to robbery ...</td>\n",
       "    </tr>\n",
       "    <tr>\n",
       "      <th>...</th>\n",
       "      <td>...</td>\n",
       "      <td>...</td>\n",
       "      <td>...</td>\n",
       "    </tr>\n",
       "    <tr>\n",
       "      <th>2991</th>\n",
       "      <td>SDG_Series</td>\n",
       "      <td>SDG_AG_FLS_INDEX</td>\n",
       "      <td>Global food loss index</td>\n",
       "    </tr>\n",
       "    <tr>\n",
       "      <th>2992</th>\n",
       "      <td>SDG_Series</td>\n",
       "      <td>SDG_AG_FLS_INDEX</td>\n",
       "      <td>Global food loss index</td>\n",
       "    </tr>\n",
       "    <tr>\n",
       "      <th>2993</th>\n",
       "      <td>SDG_Series</td>\n",
       "      <td>SDG_AG_FLS_IDX</td>\n",
       "      <td>Food loss percentage</td>\n",
       "    </tr>\n",
       "    <tr>\n",
       "      <th>2994</th>\n",
       "      <td>SDG_Series</td>\n",
       "      <td>SDG_AG_FLS_IDX</td>\n",
       "      <td>Food loss percentage</td>\n",
       "    </tr>\n",
       "    <tr>\n",
       "      <th>2995</th>\n",
       "      <td>SDG_Series</td>\n",
       "      <td>SDG_AG_FLS_IDX</td>\n",
       "      <td>Food loss percentage</td>\n",
       "    </tr>\n",
       "  </tbody>\n",
       "</table>\n",
       "<p>2996 rows × 3 columns</p>\n",
       "</div>"
      ],
      "text/plain": [
       "          typeOf              dcid   \n",
       "0     SDG_Series   SDG_VC_VOV_SEXL  \\\n",
       "1     SDG_Series   SDG_VC_VOV_SEXL   \n",
       "2     SDG_Series   SDG_VC_VOV_SEXL   \n",
       "3     SDG_Series   SDG_VC_VOV_ROBB   \n",
       "4     SDG_Series   SDG_VC_VOV_ROBB   \n",
       "...          ...               ...   \n",
       "2991  SDG_Series  SDG_AG_FLS_INDEX   \n",
       "2992  SDG_Series  SDG_AG_FLS_INDEX   \n",
       "2993  SDG_Series    SDG_AG_FLS_IDX   \n",
       "2994  SDG_Series    SDG_AG_FLS_IDX   \n",
       "2995  SDG_Series    SDG_AG_FLS_IDX   \n",
       "\n",
       "                                                   name  \n",
       "0     Proportion of population subjected to sexual v...  \n",
       "1     Proportion of population subjected to sexual v...  \n",
       "2     Proportion of population subjected to sexual v...  \n",
       "3     Proportion of population subjected to robbery ...  \n",
       "4     Proportion of population subjected to robbery ...  \n",
       "...                                                 ...  \n",
       "2991                             Global food loss index  \n",
       "2992                             Global food loss index  \n",
       "2993                               Food loss percentage  \n",
       "2994                               Food loss percentage  \n",
       "2995                               Food loss percentage  \n",
       "\n",
       "[2996 rows x 3 columns]"
      ]
     },
     "execution_count": 77,
     "metadata": {},
     "output_type": "execute_result"
    }
   ],
   "source": [
    "query = \"\"\"\n",
    "        SELECT ?dcid ?name\n",
    "        WHERE {\n",
    "          ?x typeOf SDG_Series .\n",
    "          ?x dcid ?dcid .\n",
    "          ?x name ?name .\n",
    "        }\n",
    "        ORDER BY DESC(?dcid)\n",
    "        \"\"\"\n",
    "request_body = {\"sparql\": query}\n",
    "\n",
    "# send the request to the API endpoint\n",
    "response = requests.post(url, headers=headers, data=json.dumps(request_body))\n",
    "\n",
    "results = json.loads(response.content)['rows']\n",
    "\n",
    "pd.DataFrame([('SDG_Series', r['cells'][0]['value'], r['cells'][1]['value']) for r in results], columns=['typeOf', 'dcid', 'name'])\n",
    "\n",
    "\n",
    "# # print the response content (in JSON format)\n",
    "# print(response.json())"
   ]
  },
  {
   "cell_type": "markdown",
   "id": "cdcbcef1-1dbd-4151-9344-5b1e8ab09372",
   "metadata": {},
   "source": [
    "---"
   ]
  },
  {
   "cell_type": "code",
   "execution_count": null,
   "id": "7aef1ce6-ea91-4953-aa0d-d47b7e63a490",
   "metadata": {
    "tags": []
   },
   "outputs": [],
   "source": [
    "statistical_variables = []\n",
    "statistical_variables_log = []\n",
    "for index, sdg_series_id in sdg_series['dcid'].items():\n",
    "    url = f\"http://api.datacommons.org/v1/property/values/in/{sdg_series_id}/populationType?key={api_key}\"\n",
    "    response = requests.get(url)\n",
    "    json_data = response.content\n",
    "    try:\n",
    "        x = pd.DataFrame(json.loads(json_data)['values'])\n",
    "        x['SDG_Series'] = sdg_series_id\n",
    "        statistical_variables.append(x)\n",
    "        statistical_variables_log.append({'SDG_Series': sdg_series_id, 'No_variables': len(x)})\n",
    "    except:\n",
    "        statistical_variables_log.append({'SDG_Series': sdg_series_id, 'No_variables': 0})\n",
    "\n",
    "statistical_variables = pd.concat(statistical_variables)\n",
    "statistical_variables_log =pd.DataFrame(statistical_variables_log)\n"
   ]
  },
  {
   "cell_type": "code",
   "execution_count": null,
   "id": "7cca1557-2c9c-438c-8f84-b640be43ffd8",
   "metadata": {
    "tags": []
   },
   "outputs": [],
   "source": [
    "write_to_excel(statistical_variables, '../data/output/statistical_variables.xlsx', 'StatisticalVariables', 90)\n",
    "write_to_excel(statistical_variables_log, '../data/output/statistical_variables_log.xlsx', 'StatisticalVariables', 90)"
   ]
  },
  {
   "cell_type": "code",
   "execution_count": null,
   "id": "8c01d2fc-8628-4292-8081-850d87d36047",
   "metadata": {},
   "outputs": [],
   "source": [
    "url = f\"http://api.datacommons.org/v1/properties/out/sdg/SE_AGP_CPRA_LOWSEC_Q1?key={api_key}\"\n",
    "response = requests.get(url)\n",
    "json_data = response.content\n",
    "properties = json.loads(json_data)['properties']\n",
    "properties\n",
    "\n",
    "\n",
    "\n"
   ]
  },
  {
   "cell_type": "code",
   "execution_count": null,
   "id": "f77df50d-d4b5-4f68-96d1-fd2b913103ed",
   "metadata": {},
   "outputs": [],
   "source": [
    "properties = []\n",
    "       \n",
    "for index, sdg_variable_id in statistical_variables['dcid'].items():\n",
    "    url = f\"http://api.datacommons.org/v1/property/values/out/{sdg_variable_id}/constraintProperties?key={api_key}\"\n",
    "    response = requests.get(url)\n",
    "    json_data = response.content\n",
    "    constraintProperties = json.loads(json_data)\n",
    "    if 'values' in constraintProperties.keys():\n",
    "        for cp in constraintProperties['values']:\n",
    "            constraint_properties.append(\n",
    "                {'statistical_variable': sdg_variable_id,\n",
    "                 'constraintProperty': cp['dcid'],\n",
    "                 'constraintProperty_name': cp['name']\n",
    "                }\n",
    "            )\n",
    "\n",
    "constraint_properties = pd.DataFrame(constraint_properties)"
   ]
  },
  {
   "cell_type": "code",
   "execution_count": null,
   "id": "12fff3c3-4439-4b36-8373-f056d5ff8b63",
   "metadata": {
    "tags": []
   },
   "outputs": [],
   "source": [
    "constraint_properties = []\n",
    "       \n",
    "for index, sdg_variable_id in statistical_variables['dcid'].items():\n",
    "    url = f\"http://api.datacommons.org/v1/property/values/out/{sdg_variable_id}/constraintProperties?key={api_key}\"\n",
    "    response = requests.get(url)\n",
    "    json_data = response.content\n",
    "    constraintProperties = json.loads(json_data)\n",
    "    if 'values' in constraintProperties.keys():\n",
    "        for cp in constraintProperties['values']:\n",
    "            constraint_properties.append(\n",
    "                {'statistical_variable': sdg_variable_id,\n",
    "                 'constraintProperty': cp['dcid'],\n",
    "                 'constraintProperty_name': cp['name']\n",
    "                }\n",
    "            )\n",
    "\n",
    "constraint_properties = pd.DataFrame(constraint_properties)\n"
   ]
  },
  {
   "cell_type": "code",
   "execution_count": null,
   "id": "4bead699-72e1-4434-aa54-c41f07f2fe6e",
   "metadata": {
    "tags": []
   },
   "outputs": [],
   "source": [
    "constraint_properties"
   ]
  },
  {
   "cell_type": "code",
   "execution_count": null,
   "id": "dc2060cf-8c58-479f-9c61-c3e4d27139e4",
   "metadata": {
    "tags": []
   },
   "outputs": [],
   "source": [
    "constraint_properties = constraint_properties.pivot_table(\n",
    "    index='statistical_variable',\n",
    "    columns='constraintProperty',\n",
    "    values='constraintProperty_name',\n",
    "    aggfunc='first'\n",
    ").fillna('')\n",
    "\n",
    "# reset index\n",
    "constraint_properties = constraint_properties.reset_index()\n",
    "\n",
    "\n",
    "write_to_excel(constraint_properties, '../data/output/constraint_properties.xlsx', 'ConstraintProperties', 90)"
   ]
  },
  {
   "cell_type": "code",
   "execution_count": null,
   "id": "b81b1382-3b2b-4297-9c19-78ac9d01c1d9",
   "metadata": {
    "tags": []
   },
   "outputs": [],
   "source": [
    "constraint_properties"
   ]
  },
  {
   "cell_type": "code",
   "execution_count": null,
   "id": "44e82597-fde2-46db-9fa9-c315435af417",
   "metadata": {},
   "outputs": [],
   "source": []
  }
 ],
 "metadata": {
  "kernelspec": {
   "display_name": "Python 3 (ipykernel)",
   "language": "python",
   "name": "python3"
  },
  "language_info": {
   "codemirror_mode": {
    "name": "ipython",
    "version": 3
   },
   "file_extension": ".py",
   "mimetype": "text/x-python",
   "name": "python",
   "nbconvert_exporter": "python",
   "pygments_lexer": "ipython3",
   "version": "3.11.1"
  }
 },
 "nbformat": 4,
 "nbformat_minor": 5
}
