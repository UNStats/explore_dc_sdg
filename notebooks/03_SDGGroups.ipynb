{
 "cells": [
  {
   "cell_type": "markdown",
   "id": "0346ba6f-2c1a-4782-bbe3-cd75f43a6ce4",
   "metadata": {},
   "source": [
    "# Explore SDG Groups\n",
    "\n",
    "\n",
    "Obtain a list of the full hierarchy of StatVarGroup instances that are related to the SDG’s statistical variables in DC through the specializationOf relation?   This seems to be the way we should model the SDG indicator framework, from Goal > Target > Indicator > Series >> Variable."
   ]
  },
  {
   "cell_type": "code",
   "execution_count": 1,
   "id": "43b5aaf6-4e1b-4be7-a685-dcae9f5e3f82",
   "metadata": {},
   "outputs": [],
   "source": [
    "# Import Data Commons\n",
    "\n",
    "import pandas as pd\n",
    "import numpy as np\n",
    "import datacommons_pandas as dc\n",
    "\n",
    "# Import other required libraries\n",
    "import matplotlib.pyplot as plt\n",
    "import matplotlib.patches as mpatches\n",
    "import pandas as pd\n",
    "\n",
    "import json\n",
    "import time\n",
    "\n",
    "import ast\n",
    "\n",
    "import os\n",
    "from dotenv import load_dotenv\n",
    "\n",
    "from IPython.core.interactiveshell import InteractiveShell\n",
    "InteractiveShell.ast_node_interactivity = \"all\"\n",
    "from IPython.display import clear_output, display\n",
    "from IPython.core.display import HTML, JSON\n",
    "\n",
    "import requests\n",
    "from bs4 import BeautifulSoup\n",
    "\n",
    "\n",
    "import sys\n",
    "sys.path.append('../') # add the project's root directory to the system path\n",
    "\n",
    "from utils_excel import * # import the utils_excel module from the project's root directory\n"
   ]
  },
  {
   "cell_type": "markdown",
   "id": "a0a12631-1242-46eb-91fe-2fae48bde2d0",
   "metadata": {},
   "source": [
    "---"
   ]
  },
  {
   "cell_type": "code",
   "execution_count": 2,
   "id": "97a145fd-32f6-42ce-8b50-bbeed18cc35b",
   "metadata": {
    "tags": []
   },
   "outputs": [
    {
     "data": {
      "text/plain": [
       "True"
      ]
     },
     "execution_count": 2,
     "metadata": {},
     "output_type": "execute_result"
    }
   ],
   "source": [
    "load_dotenv()\n",
    "api_key = os.getenv(\"DC_KEY\")"
   ]
  },
  {
   "cell_type": "markdown",
   "id": "7e3098c2-443b-4cae-9335-d5110eac096f",
   "metadata": {},
   "source": [
    "### SPARQL Query"
   ]
  },
  {
   "cell_type": "code",
   "execution_count": 3,
   "id": "f3b00178-f844-4d6e-ab51-cdba7cbe5cd1",
   "metadata": {},
   "outputs": [],
   "source": [
    "# set up the API endpoint URL\n",
    "url = \"https://api.datacommons.org/v1/query\"\n",
    "headers = {\"X-API-Key\": api_key}"
   ]
  },
  {
   "cell_type": "markdown",
   "id": "98f282dd-4ad0-4ff7-a89e-9eab5c5db7b8",
   "metadata": {},
   "source": [
    "### REST API"
   ]
  },
  {
   "cell_type": "code",
   "execution_count": 4,
   "id": "0851ef57-0a6a-4477-9b84-eb34d6b2612a",
   "metadata": {
    "tags": []
   },
   "outputs": [],
   "source": [
    "def call_api(endpoint, parameters):\n",
    "    url = f\"http://api.datacommons.org/{endpoint}{parameters}?key={api_key}\"\n",
    "    print(f\"http://api.datacommons.org/{endpoint}{parameters}\")\n",
    "    response = requests.get(url)\n",
    "    return json.loads(response.content)"
   ]
  },
  {
   "cell_type": "markdown",
   "id": "774e634c-fe6e-4dfd-893e-ee83fab0d934",
   "metadata": {},
   "source": [
    "---"
   ]
  },
  {
   "cell_type": "code",
   "execution_count": 5,
   "id": "925a865b-6c2f-455c-8469-fdbe85ec37ac",
   "metadata": {
    "tags": []
   },
   "outputs": [
    {
     "data": {
      "text/html": [
       "<div>\n",
       "<style scoped>\n",
       "    .dataframe tbody tr th:only-of-type {\n",
       "        vertical-align: middle;\n",
       "    }\n",
       "\n",
       "    .dataframe tbody tr th {\n",
       "        vertical-align: top;\n",
       "    }\n",
       "\n",
       "    .dataframe thead th {\n",
       "        text-align: right;\n",
       "    }\n",
       "</style>\n",
       "<table border=\"1\" class=\"dataframe\">\n",
       "  <thead>\n",
       "    <tr style=\"text-align: right;\">\n",
       "      <th></th>\n",
       "      <th>dcid</th>\n",
       "      <th>measuredProperty</th>\n",
       "      <th>measuredProperty__name</th>\n",
       "      <th>memberOf</th>\n",
       "      <th>memberOf__name</th>\n",
       "      <th>name</th>\n",
       "      <th>populationType</th>\n",
       "      <th>populationType__name</th>\n",
       "      <th>provenance</th>\n",
       "      <th>provenance__name</th>\n",
       "      <th>...</th>\n",
       "      <th>sdg_typeOfWasteTreatment</th>\n",
       "      <th>sdg_typeOfWasteTreatment__name</th>\n",
       "      <th>sdg_frequencyOfChlorophyllAConcentration</th>\n",
       "      <th>sdg_frequencyOfChlorophyllAConcentration__name</th>\n",
       "      <th>sdg_deviationLevel</th>\n",
       "      <th>sdg_deviationLevel__name</th>\n",
       "      <th>sdg_typeOfRenewableTechnology</th>\n",
       "      <th>sdg_typeOfRenewableTechnology__name</th>\n",
       "      <th>sdg_foodWasteSector</th>\n",
       "      <th>sdg_foodWasteSector__name</th>\n",
       "    </tr>\n",
       "  </thead>\n",
       "  <tbody>\n",
       "    <tr>\n",
       "      <th>0</th>\n",
       "      <td>sdg/VC_DSR_AFFCT</td>\n",
       "      <td>value</td>\n",
       "      <td>value</td>\n",
       "      <td>['dc/g/SDG_1.5.1', 'dc/g/SDG_11.5.1', 'dc/g/SD...</td>\n",
       "      <td>['1.5.1: Number of deaths, missing persons and...</td>\n",
       "      <td>Number of people affected by disaster</td>\n",
       "      <td>SDG_VC_DSR_AFFCT</td>\n",
       "      <td>Number of people affected by disaster</td>\n",
       "      <td>dc/base/HumanReadableStatVars</td>\n",
       "      <td>HumanReadableStatVars</td>\n",
       "      <td>...</td>\n",
       "      <td>NaN</td>\n",
       "      <td>NaN</td>\n",
       "      <td>NaN</td>\n",
       "      <td>NaN</td>\n",
       "      <td>NaN</td>\n",
       "      <td>NaN</td>\n",
       "      <td>NaN</td>\n",
       "      <td>NaN</td>\n",
       "      <td>NaN</td>\n",
       "      <td>NaN</td>\n",
       "    </tr>\n",
       "    <tr>\n",
       "      <th>1</th>\n",
       "      <td>sdg/VC_DSR_DAFF</td>\n",
       "      <td>value</td>\n",
       "      <td>value</td>\n",
       "      <td>['dc/g/SDG_1.5.1', 'dc/g/SDG_11.5.1', 'dc/g/SD...</td>\n",
       "      <td>['1.5.1: Number of deaths, missing persons and...</td>\n",
       "      <td>Number of directly affected persons attributed...</td>\n",
       "      <td>SDG_VC_DSR_DAFF</td>\n",
       "      <td>Number of directly affected persons attributed...</td>\n",
       "      <td>dc/base/HumanReadableStatVars</td>\n",
       "      <td>HumanReadableStatVars</td>\n",
       "      <td>...</td>\n",
       "      <td>NaN</td>\n",
       "      <td>NaN</td>\n",
       "      <td>NaN</td>\n",
       "      <td>NaN</td>\n",
       "      <td>NaN</td>\n",
       "      <td>NaN</td>\n",
       "      <td>NaN</td>\n",
       "      <td>NaN</td>\n",
       "      <td>NaN</td>\n",
       "      <td>NaN</td>\n",
       "    </tr>\n",
       "    <tr>\n",
       "      <th>2</th>\n",
       "      <td>sdg/VC_DSR_IJILN</td>\n",
       "      <td>value</td>\n",
       "      <td>value</td>\n",
       "      <td>['dc/g/SDG_1.5.1', 'dc/g/SDG_11.5.1', 'dc/g/SD...</td>\n",
       "      <td>['1.5.1: Number of deaths, missing persons and...</td>\n",
       "      <td>Number of injured or ill people attributed to ...</td>\n",
       "      <td>SDG_VC_DSR_IJILN</td>\n",
       "      <td>Number of injured or ill people attributed to ...</td>\n",
       "      <td>dc/base/HumanReadableStatVars</td>\n",
       "      <td>HumanReadableStatVars</td>\n",
       "      <td>...</td>\n",
       "      <td>NaN</td>\n",
       "      <td>NaN</td>\n",
       "      <td>NaN</td>\n",
       "      <td>NaN</td>\n",
       "      <td>NaN</td>\n",
       "      <td>NaN</td>\n",
       "      <td>NaN</td>\n",
       "      <td>NaN</td>\n",
       "      <td>NaN</td>\n",
       "      <td>NaN</td>\n",
       "    </tr>\n",
       "  </tbody>\n",
       "</table>\n",
       "<p>3 rows × 88 columns</p>\n",
       "</div>"
      ],
      "text/plain": [
       "               dcid measuredProperty measuredProperty__name   \n",
       "0  sdg/VC_DSR_AFFCT            value                  value  \\\n",
       "1   sdg/VC_DSR_DAFF            value                  value   \n",
       "2  sdg/VC_DSR_IJILN            value                  value   \n",
       "\n",
       "                                            memberOf   \n",
       "0  ['dc/g/SDG_1.5.1', 'dc/g/SDG_11.5.1', 'dc/g/SD...  \\\n",
       "1  ['dc/g/SDG_1.5.1', 'dc/g/SDG_11.5.1', 'dc/g/SD...   \n",
       "2  ['dc/g/SDG_1.5.1', 'dc/g/SDG_11.5.1', 'dc/g/SD...   \n",
       "\n",
       "                                      memberOf__name   \n",
       "0  ['1.5.1: Number of deaths, missing persons and...  \\\n",
       "1  ['1.5.1: Number of deaths, missing persons and...   \n",
       "2  ['1.5.1: Number of deaths, missing persons and...   \n",
       "\n",
       "                                                name    populationType   \n",
       "0              Number of people affected by disaster  SDG_VC_DSR_AFFCT  \\\n",
       "1  Number of directly affected persons attributed...   SDG_VC_DSR_DAFF   \n",
       "2  Number of injured or ill people attributed to ...  SDG_VC_DSR_IJILN   \n",
       "\n",
       "                                populationType__name   \n",
       "0              Number of people affected by disaster  \\\n",
       "1  Number of directly affected persons attributed...   \n",
       "2  Number of injured or ill people attributed to ...   \n",
       "\n",
       "                      provenance       provenance__name  ...   \n",
       "0  dc/base/HumanReadableStatVars  HumanReadableStatVars  ...  \\\n",
       "1  dc/base/HumanReadableStatVars  HumanReadableStatVars  ...   \n",
       "2  dc/base/HumanReadableStatVars  HumanReadableStatVars  ...   \n",
       "\n",
       "  sdg_typeOfWasteTreatment sdg_typeOfWasteTreatment__name   \n",
       "0                      NaN                            NaN  \\\n",
       "1                      NaN                            NaN   \n",
       "2                      NaN                            NaN   \n",
       "\n",
       "  sdg_frequencyOfChlorophyllAConcentration   \n",
       "0                                      NaN  \\\n",
       "1                                      NaN   \n",
       "2                                      NaN   \n",
       "\n",
       "  sdg_frequencyOfChlorophyllAConcentration__name sdg_deviationLevel   \n",
       "0                                            NaN                NaN  \\\n",
       "1                                            NaN                NaN   \n",
       "2                                            NaN                NaN   \n",
       "\n",
       "  sdg_deviationLevel__name sdg_typeOfRenewableTechnology   \n",
       "0                      NaN                           NaN  \\\n",
       "1                      NaN                           NaN   \n",
       "2                      NaN                           NaN   \n",
       "\n",
       "  sdg_typeOfRenewableTechnology__name sdg_foodWasteSector   \n",
       "0                                 NaN                 NaN  \\\n",
       "1                                 NaN                 NaN   \n",
       "2                                 NaN                 NaN   \n",
       "\n",
       "  sdg_foodWasteSector__name  \n",
       "0                       NaN  \n",
       "1                       NaN  \n",
       "2                       NaN  \n",
       "\n",
       "[3 rows x 88 columns]"
      ]
     },
     "execution_count": 5,
     "metadata": {},
     "output_type": "execute_result"
    }
   ],
   "source": [
    "variable_properties = pd.read_excel('../data/output/Variable_Properties.xlsx')\n",
    "variable_properties.head(3)"
   ]
  },
  {
   "cell_type": "markdown",
   "id": "604883b1-0028-4377-801b-09ccf4223a5a",
   "metadata": {},
   "source": [
    "### 1. Obtain groups directly linked to SDG statistical variables through the `memberOf` relation"
   ]
  },
  {
   "cell_type": "code",
   "execution_count": 6,
   "id": "2c7c9de6-c7b9-42ff-91fc-c0e063588cad",
   "metadata": {
    "tags": []
   },
   "outputs": [
    {
     "name": "stdout",
     "output_type": "stream",
     "text": [
      "len(SDG_Groups_unique)=2045\n"
     ]
    }
   ],
   "source": [
    "SDG_Groups = list(variable_properties['memberOf'])\n",
    "\n",
    "\n",
    "SDG_Groups_unique = []\n",
    "\n",
    "for element in SDG_Groups:\n",
    "    # Check if the element is a simple string\n",
    "    if isinstance(element, str) and not element.startswith(\"[\"):\n",
    "        if element not in SDG_Groups_unique:\n",
    "            SDG_Groups_unique.append(element)\n",
    "    # Check if the element is a complex string that can be parsed as an array of simple strings\n",
    "    elif isinstance(element, str) and element.startswith(\"[\") and element.endswith(\"]\"):\n",
    "        parsed_array = ast.literal_eval(element)\n",
    "        for value in parsed_array:\n",
    "            if value not in SDG_Groups_unique:\n",
    "                SDG_Groups_unique.append(value)\n",
    "\n",
    "SDG_Groups_unique = sorted(SDG_Groups_unique)\n",
    "print(f\"{len(SDG_Groups_unique)=}\")"
   ]
  },
  {
   "cell_type": "code",
   "execution_count": 7,
   "id": "f5b3c2ed-9399-4fe9-8d8d-99d42b376b0c",
   "metadata": {
    "tags": []
   },
   "outputs": [],
   "source": [
    "x = pd.DataFrame(SDG_Groups_unique, columns=['SDG_Groups_from_variables'])\n",
    "write_to_excel(x, '../data/output/SDG_Groups_from_variables.xlsx', 'SDG_Groups_from_variables', 90)"
   ]
  },
  {
   "cell_type": "markdown",
   "id": "6eb01a48-e04b-4197-a756-c149547c9bfd",
   "metadata": {},
   "source": [
    "### 2. Obtain `specializationOf` groups"
   ]
  },
  {
   "cell_type": "code",
   "execution_count": 8,
   "id": "dbd6550b-4d4b-4387-9cd2-82f4db99a5d1",
   "metadata": {
    "tags": []
   },
   "outputs": [],
   "source": [
    "def get_parent_groups(group_id):\n",
    "    endpoint = 'v1/property/values'\n",
    "    parameters = f'/out/{group_id}/specializationOf'\n",
    "    response_data = call_api(endpoint, parameters)\n",
    "    try:\n",
    "        x = pd.DataFrame(response_data['values'])\n",
    "        x['child_group'] = group_id\n",
    "    except:\n",
    "        x = pd.DataFrame()\n",
    "    return x"
   ]
  },
  {
   "cell_type": "code",
   "execution_count": 9,
   "id": "42a151cf-9043-48f2-b6d3-710eafd3999a",
   "metadata": {
    "tags": []
   },
   "outputs": [],
   "source": [
    "# Group_hierarchy = []\n",
    "# Group_hierarchy_log = []\n",
    "\n",
    "# for group_id in SDG_Groups_unique:\n",
    "    \n",
    "#     x = get_parent_groups(group_id)\n",
    "#     Group_hierarchy.append(x)\n",
    "#     log_entry = {'child_group': group_id, 'No_parent_groups': len(x)}\n",
    "#     clear_output(wait=True)\n",
    "\n",
    "# Group_hierarchy1 = pd.concat(Group_hierarchy)\n",
    "# Group_hierarchy1_log =pd.DataFrame(Group_hierarchy_log)\n",
    "    "
   ]
  },
  {
   "cell_type": "code",
   "execution_count": 10,
   "id": "d5309dba-ffcb-4362-80b3-a569e5d3e1b7",
   "metadata": {
    "tags": []
   },
   "outputs": [],
   "source": [
    "def recursive_func(df, dfs):\n",
    "    # Check if the dataframe is empty\n",
    "    if df.empty:\n",
    "        return pd.concat(dfs)\n",
    "    \n",
    "    # Get the unique values of the 'dcid' column\n",
    "    unique_values = df['dcid'].unique()\n",
    "    \n",
    "    # Create an empty list to store the dataframes\n",
    "    new_dfs = []\n",
    "    \n",
    "    # Loop through the unique values\n",
    "    for value in unique_values:\n",
    "        # Call the function on the subset of the dataframe with the current value\n",
    "        x = get_parent_groups(value)\n",
    "        \n",
    "        # Append the result to the list of dataframes\n",
    "        new_dfs.append(x)\n",
    "    \n",
    "    # Concatenate the list of dataframes\n",
    "    new_df = pd.concat(new_dfs)\n",
    "    \n",
    "    # Append the new dataframe to the list of dataframes\n",
    "    dfs.append(new_df)\n",
    "    clear_output(wait=True)\n",
    "\n",
    "    # Recursively call the function with the new dataframe\n",
    "    return recursive_func(new_df, dfs)"
   ]
  },
  {
   "cell_type": "code",
   "execution_count": 11,
   "id": "63a31541-1a4e-4630-ad16-379545aeeae4",
   "metadata": {
    "tags": []
   },
   "outputs": [
    {
     "name": "stdout",
     "output_type": "stream",
     "text": [
      "http://api.datacommons.org/v1/property/values/out/dc/g/Root/specializationOf\n"
     ]
    }
   ],
   "source": [
    "dfs = []\n",
    "df0 = pd.DataFrame({'dcid': SDG_Groups_unique})\n",
    "result = recursive_func(df0, dfs)\n",
    "result = result.astype(str) \n",
    "result = result.drop_duplicates()\n",
    "write_to_excel(result, '../data/output/SDG_Groups_Hierarchy.xlsx', 'SDG_Groups_Hierarchy', 90)"
   ]
  },
  {
   "cell_type": "code",
   "execution_count": null,
   "id": "b12048d0-51ac-4e5b-b885-aebe33e5b534",
   "metadata": {},
   "outputs": [],
   "source": []
  }
 ],
 "metadata": {
  "kernelspec": {
   "display_name": "Python 3 (ipykernel)",
   "language": "python",
   "name": "python3"
  },
  "language_info": {
   "codemirror_mode": {
    "name": "ipython",
    "version": 3
   },
   "file_extension": ".py",
   "mimetype": "text/x-python",
   "name": "python",
   "nbconvert_exporter": "python",
   "pygments_lexer": "ipython3",
   "version": "3.11.1"
  }
 },
 "nbformat": 4,
 "nbformat_minor": 5
}
