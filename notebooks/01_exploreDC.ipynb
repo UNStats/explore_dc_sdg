{
 "cells": [
  {
   "cell_type": "code",
   "execution_count": null,
   "id": "e1c4266d-5dd3-4e2f-879d-f4b592da6ce1",
   "metadata": {},
   "outputs": [],
   "source": [
    "# Import Data Commons\n",
    "\n",
    "import pandas as pd\n",
    "import numpy as np\n",
    "import datacommons_pandas as dc\n",
    "\n",
    "# Import other required libraries\n",
    "import matplotlib.pyplot as plt\n",
    "import matplotlib.patches as mpatches\n",
    "import pandas as pd\n",
    "\n",
    "import json\n",
    "import time\n",
    "\n",
    "import os\n",
    "from dotenv import load_dotenv\n",
    "\n",
    "from IPython.core.interactiveshell import InteractiveShell\n",
    "InteractiveShell.ast_node_interactivity = \"all\"\n",
    "from IPython.display import clear_output, display\n",
    "from IPython.core.display import HTML, JSON\n",
    "\n",
    "import requests\n",
    "from bs4 import BeautifulSoup\n",
    "\n",
    "\n",
    "import sys\n",
    "sys.path.append('../') # add the project's root directory to the system path\n",
    "\n",
    "from utils_excel import * # import the utils_excel module from the project's root directory\n"
   ]
  },
  {
   "cell_type": "code",
   "execution_count": null,
   "id": "325ebf4e-1ebd-4956-9930-8327371c7f9b",
   "metadata": {
    "tags": []
   },
   "outputs": [],
   "source": [
    "load_dotenv()\n",
    "api_key = os.getenv(\"DC_KEY\")"
   ]
  },
  {
   "cell_type": "code",
   "execution_count": null,
   "id": "50ab4e86-f975-4158-9387-6a9d5e3e7e18",
   "metadata": {},
   "outputs": [],
   "source": [
    "sdg_series = pd.read_excel('../data/input/SDG_Series.xlsx')\n",
    "sdg_series.head()"
   ]
  },
  {
   "cell_type": "code",
   "execution_count": null,
   "id": "866b7c24-1833-4a9e-9c59-715e8dc26f95",
   "metadata": {},
   "outputs": [],
   "source": [
    "def call_api(endpoint, parameters):\n",
    "    url = f\"http://api.datacommons.org/{endpoint}{parameters}?key={api_key}\"\n",
    "    print(f\"http://api.datacommons.org/{endpoint}{parameters}\")\n",
    "    response = requests.get(url)\n",
    "    return json.loads(response.content)"
   ]
  },
  {
   "cell_type": "markdown",
   "id": "6e63c366-7456-433a-94fb-23cd35fc249c",
   "metadata": {},
   "source": [
    "# Local graph exploration"
   ]
  },
  {
   "cell_type": "markdown",
   "id": "f8bf2c61-e684-4a2e-b04b-33aba94004a4",
   "metadata": {},
   "source": [
    "## 1. Get all properties associated with a specific node\n",
    "\n",
    "Get all properties associated with a specific node.\n",
    "\n",
    "More specifically, this endpoint returns the labels of the edges connected to a specific node in the Data Commons Knowledge Graph. Edges in the graph are directed, so properties can either be labels for edges towards or away from the node. Outgoing edges correspond to properties of the node. Incoming edges denote that the node is the value of this property for some other node."
   ]
  },
  {
   "cell_type": "code",
   "execution_count": null,
   "id": "ac0723ee-bc9e-4e35-bde4-0bb43c83df1f",
   "metadata": {
    "tags": []
   },
   "outputs": [],
   "source": [
    "call_api(\"v1/properties\", \"/in/SDG_SE_AGP_CPRA\")\n",
    "call_api(\"v1/properties\", \"/out/SDG_SE_AGP_CPRA\")"
   ]
  },
  {
   "cell_type": "markdown",
   "id": "1bd47694-92f4-449e-aab3-c9f13bae29a7",
   "metadata": {},
   "source": [
    "## 2. Get the value for a property of a specific node\n",
    "\n",
    "Get the values of a property for a specific node.\n",
    "\n",
    "Data Commons represents properties as labels of directed edges between nodes, where the successor node is a value of the property. Thus, this endpoint returns nodes connected to the queried node via the property queried."
   ]
  },
  {
   "cell_type": "code",
   "execution_count": null,
   "id": "423bc8f4-446c-4d9d-9700-a50323976afc",
   "metadata": {
    "tags": []
   },
   "outputs": [],
   "source": [
    "\n",
    "call_api(\"v1/property/values\", \"/out/SDG_SE_AGP_CPRA/name\")\n",
    "print('---')\n",
    "call_api(\"v1/property/values\", \"/out/SDG_SE_AGP_CPRA/provenance\")\n",
    "print('---')\n",
    "call_api(\"v1/property/values\", \"/out/SDG_SE_AGP_CPRA/typeOf\")\n",
    "print('---')\n",
    "call_api(\"v1/property/values\", \"/in/SDG_SE_AGP_CPRA/populationType\")\n"
   ]
  },
  {
   "cell_type": "markdown",
   "id": "cbbb903a-76d8-459e-87ff-6c17bc7646de",
   "metadata": {},
   "source": [
    "## 3. Variable info\n",
    "\n",
    "Get basic information about a variable.\n",
    "\n",
    "This API returns basic information on a variable, given the variable’s DCID. The information provided includes the number of entities that have data for the variable, the minimum and maximum value observed, and the name and DCID of the top 3 entities with highest observed values for that variable. The information is grouped by place type (country, state, county, etc.)."
   ]
  },
  {
   "cell_type": "code",
   "execution_count": null,
   "id": "d2ed5db4-8a93-4323-9f9b-9497afc5e2cc",
   "metadata": {
    "tags": []
   },
   "outputs": [],
   "source": [
    "call_api(\"v1/info/variable\", \"/sdg/SE_AGP_CPRA_LOWSEC\")"
   ]
  },
  {
   "cell_type": "markdown",
   "id": "aefe740a-cec4-4d3c-94a4-83aebaf66ad0",
   "metadata": {},
   "source": [
    "## 4. Triples\n",
    "Get a triple.\n",
    "\n",
    "Useful for finding local connections between nodes of the Data Commons knowledge graph."
   ]
  },
  {
   "cell_type": "code",
   "execution_count": null,
   "id": "87233306-f653-4e1e-ac5f-f432853f64f0",
   "metadata": {
    "tags": []
   },
   "outputs": [],
   "source": [
    "\n",
    "#  The statistical variable \"sdg/SE_AGP_CPRA_LOWSEC_Q2\" has:\n",
    "#\n",
    "#   - name: \n",
    "#       \"Adjusted gender parity index for completion rate: Lower secondary, Quantile 2\"\n",
    "#\n",
    "#   - typeOf: \n",
    "#       StatisticalVariable (Class)\n",
    "#\n",
    "#   - populationType: \n",
    "#       SDG_SE_AGP_CPRA (SDG_Series)\n",
    "#\n",
    "#   - constraintProperties: \n",
    "#       [educationalAttainment (Property), sdq_quantile (Property)] \n",
    "#\n",
    "#   - sdg_quantile: \n",
    "#       SDG_QuantileEnum_Q2 (SDG_QuantileEnum)\n",
    "#\n",
    "#   - educationalAttainment: \n",
    "#       SDG_EducationLevelEnum_LOWSEC (SDG_EducationLevelEnum)\n",
    "#\n",
    "#   - statType: \n",
    "#       measuredValue (Property)\n",
    "#\n",
    "#   - provenance: \n",
    "#       dc/base/HumanReadableStatVars (Provenance)\n",
    "#\n",
    "#   - memberOf: \n",
    "#       dc/g/SDGSEAGPCPRA_educationalAttainment-SDGEducationLevelEnumLOWSEC_sdgquantile-SDGQuantileEnumQ2 (StatVarGroup)\n",
    "\n",
    "call_api(\"v1/triples\", \"/out/sdg/SE_AGP_CPRA_LOWSEC_Q2\")"
   ]
  },
  {
   "cell_type": "code",
   "execution_count": null,
   "id": "5597a267-6a8d-4936-899e-3157c09fc976",
   "metadata": {
    "tags": []
   },
   "outputs": [],
   "source": [
    "#  The StatVarGroup \"/dc/g/SDGSEAGPCPRA_educationalAttainment-SDGEducationLevelEnumLOWSEC_sdgquantile-SDGQuantileEnumQ2\" has:\n",
    "#\n",
    "#   - name: \n",
    "#       \"Adjusted Gender Parity Index for Completion Rate With Educational Attainment = Lower Secondary, Quantile = Quantile 2\"\n",
    "#\n",
    "#   - typeOf: \n",
    "#       StatVarGroup (Class)\n",
    "#\n",
    "#   - specializationOf: \n",
    "#       [\n",
    "#        dc/g/SDGSEAGPCPRA_educationalAttainment-SDGEducationLevelEnumLOWSEC_sdgquantile (StatVarGroup) --> \"Adjusted Gender Parity Index for Completion Rate With Educational Attainment = Lower Secondary, Quantile\",\n",
    "#        dc/g/SDGSEAGPCPRA_educationalAttainment_sdgquantile-SDGQuantileEnumQ2, (StatVarGroup) --> \"Adjusted Gender Parity Index for Completion Rate With Educational Attainment, Quantile = Quantile 2\"\n",
    "#       ]\n",
    "#\n",
    "#   - provenance: \n",
    "#       dc/base/GeneratedGraphs (Provenance)\n",
    "\n",
    "\n",
    "call_api(\"v1/triples\", \"/out/dc/g/SDGSEAGPCPRA_educationalAttainment-SDGEducationLevelEnumLOWSEC_sdgquantile-SDGQuantileEnumQ2\")"
   ]
  },
  {
   "cell_type": "code",
   "execution_count": null,
   "id": "81af152c-2dd1-4ef2-9b2f-0314934dc49b",
   "metadata": {
    "tags": []
   },
   "outputs": [],
   "source": [
    "call_api(\"v1/triples\", \"/out/StatVarGroup\")"
   ]
  },
  {
   "cell_type": "markdown",
   "id": "cb0f18f3-88f3-44ee-8694-a400aeb085b9",
   "metadata": {},
   "source": [
    "# SPARQL Query"
   ]
  },
  {
   "cell_type": "code",
   "execution_count": null,
   "id": "f3b00178-f844-4d6e-ab51-cdba7cbe5cd1",
   "metadata": {},
   "outputs": [],
   "source": [
    "# set up the API endpoint URL\n",
    "url = \"https://api.datacommons.org/v1/query\"\n",
    "headers = {\"X-API-Key\": api_key}"
   ]
  },
  {
   "cell_type": "markdown",
   "id": "b0568e19-f59b-47c3-a903-12513f8a4bdc",
   "metadata": {},
   "source": [
    "## 1. Get all resources of type `SDG_Series`"
   ]
  },
  {
   "cell_type": "code",
   "execution_count": null,
   "id": "70cc3847-0a21-48ac-8304-736151d7c321",
   "metadata": {
    "tags": []
   },
   "outputs": [],
   "source": [
    "query = \"\"\"\n",
    "        SELECT ?dcid ?name\n",
    "        WHERE {\n",
    "          ?x typeOf SDG_Series .\n",
    "          ?x dcid ?dcid .\n",
    "          ?x name ?name .\n",
    "        }\n",
    "        ORDER BY DESC(?dcid)\n",
    "        \"\"\"\n",
    "request_body = {\"sparql\": query}\n",
    "\n",
    "# send the request to the API endpoint\n",
    "response = requests.post(url, headers=headers, data=json.dumps(request_body))\n",
    "\n",
    "results = json.loads(response.content)['rows']\n",
    "\n",
    "pd.DataFrame([('SDG_Series', r['cells'][0]['value'], r['cells'][1]['value']) for r in results], columns=['typeOf', 'dcid', 'name'])\n",
    "\n",
    "\n",
    "# # print the response content (in JSON format)\n",
    "# print(response.json())"
   ]
  },
  {
   "cell_type": "markdown",
   "id": "cdcbcef1-1dbd-4151-9344-5b1e8ab09372",
   "metadata": {},
   "source": [
    "---"
   ]
  },
  {
   "cell_type": "code",
   "execution_count": null,
   "id": "7aef1ce6-ea91-4953-aa0d-d47b7e63a490",
   "metadata": {
    "tags": []
   },
   "outputs": [],
   "source": [
    "statistical_variables = []\n",
    "statistical_variables_log = []\n",
    "for index, sdg_series_id in sdg_series['dcid'].items():\n",
    "    url = f\"http://api.datacommons.org/v1/property/values/in/{sdg_series_id}/populationType?key={api_key}\"\n",
    "    response = requests.get(url)\n",
    "    json_data = response.content\n",
    "    try:\n",
    "        x = pd.DataFrame(json.loads(json_data)['values'])\n",
    "        x['SDG_Series'] = sdg_series_id\n",
    "        statistical_variables.append(x)\n",
    "        statistical_variables_log.append({'SDG_Series': sdg_series_id, 'No_variables': len(x)})\n",
    "    except:\n",
    "        statistical_variables_log.append({'SDG_Series': sdg_series_id, 'No_variables': 0})\n",
    "\n",
    "statistical_variables = pd.concat(statistical_variables)\n",
    "statistical_variables_log =pd.DataFrame(statistical_variables_log)\n"
   ]
  },
  {
   "cell_type": "code",
   "execution_count": null,
   "id": "7cca1557-2c9c-438c-8f84-b640be43ffd8",
   "metadata": {
    "tags": []
   },
   "outputs": [],
   "source": [
    "write_to_excel(statistical_variables, '../data/output/statistical_variables.xlsx', 'StatisticalVariables', 90)\n",
    "write_to_excel(statistical_variables_log, '../data/output/statistical_variables_log.xlsx', 'StatisticalVariables', 90)"
   ]
  },
  {
   "cell_type": "code",
   "execution_count": null,
   "id": "8c01d2fc-8628-4292-8081-850d87d36047",
   "metadata": {},
   "outputs": [],
   "source": [
    "url = f\"http://api.datacommons.org/v1/properties/out/sdg/SE_AGP_CPRA_LOWSEC_Q1?key={api_key}\"\n",
    "response = requests.get(url)\n",
    "json_data = response.content\n",
    "properties = json.loads(json_data)['properties']\n",
    "properties\n",
    "\n",
    "\n",
    "\n"
   ]
  },
  {
   "cell_type": "code",
   "execution_count": null,
   "id": "f77df50d-d4b5-4f68-96d1-fd2b913103ed",
   "metadata": {},
   "outputs": [],
   "source": [
    "properties = []\n",
    "       \n",
    "for index, sdg_variable_id in statistical_variables['dcid'].items():\n",
    "    url = f\"http://api.datacommons.org/v1/property/values/out/{sdg_variable_id}/constraintProperties?key={api_key}\"\n",
    "    response = requests.get(url)\n",
    "    json_data = response.content\n",
    "    constraintProperties = json.loads(json_data)\n",
    "    if 'values' in constraintProperties.keys():\n",
    "        for cp in constraintProperties['values']:\n",
    "            constraint_properties.append(\n",
    "                {'statistical_variable': sdg_variable_id,\n",
    "                 'constraintProperty': cp['dcid'],\n",
    "                 'constraintProperty_name': cp['name']\n",
    "                }\n",
    "            )\n",
    "\n",
    "constraint_properties = pd.DataFrame(constraint_properties)"
   ]
  },
  {
   "cell_type": "code",
   "execution_count": null,
   "id": "12fff3c3-4439-4b36-8373-f056d5ff8b63",
   "metadata": {
    "tags": []
   },
   "outputs": [],
   "source": [
    "constraint_properties = []\n",
    "       \n",
    "for index, sdg_variable_id in statistical_variables['dcid'].items():\n",
    "    url = f\"http://api.datacommons.org/v1/property/values/out/{sdg_variable_id}/constraintProperties?key={api_key}\"\n",
    "    response = requests.get(url)\n",
    "    json_data = response.content\n",
    "    constraintProperties = json.loads(json_data)\n",
    "    if 'values' in constraintProperties.keys():\n",
    "        for cp in constraintProperties['values']:\n",
    "            constraint_properties.append(\n",
    "                {'statistical_variable': sdg_variable_id,\n",
    "                 'constraintProperty': cp['dcid'],\n",
    "                 'constraintProperty_name': cp['name']\n",
    "                }\n",
    "            )\n",
    "\n",
    "constraint_properties = pd.DataFrame(constraint_properties)\n"
   ]
  },
  {
   "cell_type": "code",
   "execution_count": null,
   "id": "4bead699-72e1-4434-aa54-c41f07f2fe6e",
   "metadata": {
    "tags": []
   },
   "outputs": [],
   "source": [
    "constraint_properties"
   ]
  },
  {
   "cell_type": "code",
   "execution_count": null,
   "id": "dc2060cf-8c58-479f-9c61-c3e4d27139e4",
   "metadata": {
    "tags": []
   },
   "outputs": [],
   "source": [
    "constraint_properties = constraint_properties.pivot_table(\n",
    "    index='statistical_variable',\n",
    "    columns='constraintProperty',\n",
    "    values='constraintProperty_name',\n",
    "    aggfunc='first'\n",
    ").fillna('')\n",
    "\n",
    "# reset index\n",
    "constraint_properties = constraint_properties.reset_index()\n",
    "\n",
    "\n",
    "write_to_excel(constraint_properties, '../data/output/constraint_properties.xlsx', 'ConstraintProperties', 90)"
   ]
  },
  {
   "cell_type": "code",
   "execution_count": null,
   "id": "b81b1382-3b2b-4297-9c19-78ac9d01c1d9",
   "metadata": {
    "tags": []
   },
   "outputs": [],
   "source": [
    "constraint_properties"
   ]
  },
  {
   "cell_type": "code",
   "execution_count": null,
   "id": "44e82597-fde2-46db-9fa9-c315435af417",
   "metadata": {},
   "outputs": [],
   "source": []
  }
 ],
 "metadata": {
  "kernelspec": {
   "display_name": "Python 3 (ipykernel)",
   "language": "python",
   "name": "python3"
  },
  "language_info": {
   "codemirror_mode": {
    "name": "ipython",
    "version": 3
   },
   "file_extension": ".py",
   "mimetype": "text/x-python",
   "name": "python",
   "nbconvert_exporter": "python",
   "pygments_lexer": "ipython3",
   "version": "3.11.1"
  }
 },
 "nbformat": 4,
 "nbformat_minor": 5
}
